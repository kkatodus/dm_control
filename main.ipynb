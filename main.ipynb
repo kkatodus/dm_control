{
 "cells": [
  {
   "cell_type": "code",
   "execution_count": 3,
   "metadata": {},
   "outputs": [],
   "source": [
    "from dm_control import suite\n",
    "from dm_control import viewer\n",
    "import numpy as np\n",
    "\n",
    "env = suite.load(domain_name=\"stretch3\", task_name=\"test\")\n",
    "action_spec = env.action_spec()\n",
    "\n",
    "# Define a uniform random policy.\n",
    "def random_policy(time_step):\n",
    "  del time_step  # Unused.\n",
    "  return np.array(5, shape=action_spec.shape, dtype=np.float32)\n",
    "\n",
    "# Launch the viewer application.\n",
    "viewer.launch(env, policy=random_policy)"
   ]
  },
  {
   "cell_type": "code",
   "execution_count": null,
   "metadata": {},
   "outputs": [],
   "source": []
  }
 ],
 "metadata": {
  "kernelspec": {
   "display_name": "dm_venv",
   "language": "python",
   "name": "python3"
  },
  "language_info": {
   "codemirror_mode": {
    "name": "ipython",
    "version": 3
   },
   "file_extension": ".py",
   "mimetype": "text/x-python",
   "name": "python",
   "nbconvert_exporter": "python",
   "pygments_lexer": "ipython3",
   "version": "3.12.2"
  }
 },
 "nbformat": 4,
 "nbformat_minor": 2
}
