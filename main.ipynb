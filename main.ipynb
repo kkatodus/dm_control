{
 "cells": [
  {
   "cell_type": "code",
   "execution_count": 1,
   "metadata": {},
   "outputs": [
    {
     "ename": "ValueError",
     "evalue": "XML Error: resource not found via provider or OS filesystem: 'stretch.xml'\nElement 'include', line 2\n",
     "output_type": "error",
     "traceback": [
      "\u001b[0;31m---------------------------------------------------------------------------\u001b[0m",
      "\u001b[0;31mValueError\u001b[0m                                Traceback (most recent call last)",
      "Cell \u001b[0;32mIn[1], line 5\u001b[0m\n\u001b[1;32m      2\u001b[0m \u001b[38;5;28;01mfrom\u001b[39;00m \u001b[38;5;21;01mdm_control\u001b[39;00m \u001b[38;5;28;01mimport\u001b[39;00m viewer\n\u001b[1;32m      3\u001b[0m \u001b[38;5;28;01mimport\u001b[39;00m \u001b[38;5;21;01mnumpy\u001b[39;00m \u001b[38;5;28;01mas\u001b[39;00m \u001b[38;5;21;01mnp\u001b[39;00m\n\u001b[0;32m----> 5\u001b[0m env \u001b[38;5;241m=\u001b[39m \u001b[43msuite\u001b[49m\u001b[38;5;241;43m.\u001b[39;49m\u001b[43mload\u001b[49m\u001b[43m(\u001b[49m\u001b[43mdomain_name\u001b[49m\u001b[38;5;241;43m=\u001b[39;49m\u001b[38;5;124;43m\"\u001b[39;49m\u001b[38;5;124;43mstretch3\u001b[39;49m\u001b[38;5;124;43m\"\u001b[39;49m\u001b[43m,\u001b[49m\u001b[43m \u001b[49m\u001b[43mtask_name\u001b[49m\u001b[38;5;241;43m=\u001b[39;49m\u001b[38;5;124;43m\"\u001b[39;49m\u001b[38;5;124;43mtest\u001b[39;49m\u001b[38;5;124;43m\"\u001b[39;49m\u001b[43m)\u001b[49m\n\u001b[1;32m      6\u001b[0m action_spec \u001b[38;5;241m=\u001b[39m env\u001b[38;5;241m.\u001b[39maction_spec()\n\u001b[1;32m      8\u001b[0m \u001b[38;5;66;03m# Define a uniform random policy.\u001b[39;00m\n",
      "File \u001b[0;32m~/hellorobot/dm_control/dm_venv/lib/python3.12/site-packages/dm_control/suite/__init__.py:115\u001b[0m, in \u001b[0;36mload\u001b[0;34m(domain_name, task_name, task_kwargs, environment_kwargs, visualize_reward)\u001b[0m\n\u001b[1;32m     95\u001b[0m \u001b[38;5;28;01mdef\u001b[39;00m \u001b[38;5;21mload\u001b[39m(domain_name, task_name, task_kwargs\u001b[38;5;241m=\u001b[39m\u001b[38;5;28;01mNone\u001b[39;00m, environment_kwargs\u001b[38;5;241m=\u001b[39m\u001b[38;5;28;01mNone\u001b[39;00m,\n\u001b[1;32m     96\u001b[0m          visualize_reward\u001b[38;5;241m=\u001b[39m\u001b[38;5;28;01mFalse\u001b[39;00m):\n\u001b[1;32m     97\u001b[0m \u001b[38;5;250m  \u001b[39m\u001b[38;5;124;03m\"\"\"Returns an environment from a domain name, task name and optional settings.\u001b[39;00m\n\u001b[1;32m     98\u001b[0m \n\u001b[1;32m     99\u001b[0m \u001b[38;5;124;03m  ```python\u001b[39;00m\n\u001b[0;32m   (...)\u001b[0m\n\u001b[1;32m    113\u001b[0m \u001b[38;5;124;03m    The requested environment.\u001b[39;00m\n\u001b[1;32m    114\u001b[0m \u001b[38;5;124;03m  \"\"\"\u001b[39;00m\n\u001b[0;32m--> 115\u001b[0m   \u001b[38;5;28;01mreturn\u001b[39;00m \u001b[43mbuild_environment\u001b[49m\u001b[43m(\u001b[49m\u001b[43mdomain_name\u001b[49m\u001b[43m,\u001b[49m\u001b[43m \u001b[49m\u001b[43mtask_name\u001b[49m\u001b[43m,\u001b[49m\u001b[43m \u001b[49m\u001b[43mtask_kwargs\u001b[49m\u001b[43m,\u001b[49m\n\u001b[1;32m    116\u001b[0m \u001b[43m                           \u001b[49m\u001b[43menvironment_kwargs\u001b[49m\u001b[43m,\u001b[49m\u001b[43m \u001b[49m\u001b[43mvisualize_reward\u001b[49m\u001b[43m)\u001b[49m\n",
      "File \u001b[0;32m~/hellorobot/dm_control/dm_venv/lib/python3.12/site-packages/dm_control/suite/__init__.py:150\u001b[0m, in \u001b[0;36mbuild_environment\u001b[0;34m(domain_name, task_name, task_kwargs, environment_kwargs, visualize_reward)\u001b[0m\n\u001b[1;32m    148\u001b[0m \u001b[38;5;28;01mif\u001b[39;00m environment_kwargs \u001b[38;5;129;01mis\u001b[39;00m \u001b[38;5;129;01mnot\u001b[39;00m \u001b[38;5;28;01mNone\u001b[39;00m:\n\u001b[1;32m    149\u001b[0m   task_kwargs \u001b[38;5;241m=\u001b[39m \u001b[38;5;28mdict\u001b[39m(task_kwargs, environment_kwargs\u001b[38;5;241m=\u001b[39menvironment_kwargs)\n\u001b[0;32m--> 150\u001b[0m env \u001b[38;5;241m=\u001b[39m \u001b[43mdomain\u001b[49m\u001b[38;5;241;43m.\u001b[39;49m\u001b[43mSUITE\u001b[49m\u001b[43m[\u001b[49m\u001b[43mtask_name\u001b[49m\u001b[43m]\u001b[49m\u001b[43m(\u001b[49m\u001b[38;5;241;43m*\u001b[39;49m\u001b[38;5;241;43m*\u001b[39;49m\u001b[43mtask_kwargs\u001b[49m\u001b[43m)\u001b[49m\n\u001b[1;32m    151\u001b[0m env\u001b[38;5;241m.\u001b[39mtask\u001b[38;5;241m.\u001b[39mvisualize_reward \u001b[38;5;241m=\u001b[39m visualize_reward\n\u001b[1;32m    152\u001b[0m \u001b[38;5;28;01mreturn\u001b[39;00m env\n",
      "File \u001b[0;32m~/hellorobot/dm_control/dm_venv/lib/python3.12/site-packages/dm_control/suite/stretch3.py:63\u001b[0m, in \u001b[0;36mtest\u001b[0;34m(time_limit, random, environment_kwargs)\u001b[0m\n\u001b[1;32m     60\u001b[0m \u001b[38;5;129m@SUITE\u001b[39m\u001b[38;5;241m.\u001b[39madd(\u001b[38;5;124m'\u001b[39m\u001b[38;5;124mplaying\u001b[39m\u001b[38;5;124m'\u001b[39m)\n\u001b[1;32m     61\u001b[0m \u001b[38;5;28;01mdef\u001b[39;00m \u001b[38;5;21mtest\u001b[39m(time_limit\u001b[38;5;241m=\u001b[39m_DEFAULT_TIME_LIMIT, random\u001b[38;5;241m=\u001b[39m\u001b[38;5;28;01mNone\u001b[39;00m, environment_kwargs\u001b[38;5;241m=\u001b[39m\u001b[38;5;28;01mNone\u001b[39;00m):\n\u001b[1;32m     62\u001b[0m \u001b[38;5;250m  \u001b[39m\u001b[38;5;124;03m\"\"\"Returns the Test task.\"\"\"\u001b[39;00m\n\u001b[0;32m---> 63\u001b[0m   physics \u001b[38;5;241m=\u001b[39m \u001b[43mPhysics\u001b[49m\u001b[38;5;241;43m.\u001b[39;49m\u001b[43mfrom_xml_string\u001b[49m\u001b[43m(\u001b[49m\u001b[38;5;241;43m*\u001b[39;49m\u001b[43mget_model_and_assets\u001b[49m\u001b[43m(\u001b[49m\u001b[43m)\u001b[49m\u001b[43m)\u001b[49m\n\u001b[1;32m     64\u001b[0m   task \u001b[38;5;241m=\u001b[39m Robot()\n\u001b[1;32m     65\u001b[0m   environment_kwargs \u001b[38;5;241m=\u001b[39m environment_kwargs \u001b[38;5;129;01mor\u001b[39;00m {}\n",
      "File \u001b[0;32m~/hellorobot/dm_control/dm_venv/lib/python3.12/site-packages/dm_control/mujoco/engine.py:442\u001b[0m, in \u001b[0;36mPhysics.from_xml_string\u001b[0;34m(cls, xml_string, assets)\u001b[0m\n\u001b[1;32m    428\u001b[0m \u001b[38;5;129m@classmethod\u001b[39m\n\u001b[1;32m    429\u001b[0m \u001b[38;5;28;01mdef\u001b[39;00m \u001b[38;5;21mfrom_xml_string\u001b[39m(\u001b[38;5;28mcls\u001b[39m, xml_string, assets\u001b[38;5;241m=\u001b[39m\u001b[38;5;28;01mNone\u001b[39;00m):\n\u001b[1;32m    430\u001b[0m \u001b[38;5;250m  \u001b[39m\u001b[38;5;124;03m\"\"\"A named constructor from a string containing an MJCF XML file.\u001b[39;00m\n\u001b[1;32m    431\u001b[0m \n\u001b[1;32m    432\u001b[0m \u001b[38;5;124;03m  Args:\u001b[39;00m\n\u001b[0;32m   (...)\u001b[0m\n\u001b[1;32m    440\u001b[0m \u001b[38;5;124;03m    A new `Physics` instance.\u001b[39;00m\n\u001b[1;32m    441\u001b[0m \u001b[38;5;124;03m  \"\"\"\u001b[39;00m\n\u001b[0;32m--> 442\u001b[0m   model \u001b[38;5;241m=\u001b[39m \u001b[43mwrapper\u001b[49m\u001b[38;5;241;43m.\u001b[39;49m\u001b[43mMjModel\u001b[49m\u001b[38;5;241;43m.\u001b[39;49m\u001b[43mfrom_xml_string\u001b[49m\u001b[43m(\u001b[49m\u001b[43mxml_string\u001b[49m\u001b[43m,\u001b[49m\u001b[43m \u001b[49m\u001b[43massets\u001b[49m\u001b[38;5;241;43m=\u001b[39;49m\u001b[43massets\u001b[49m\u001b[43m)\u001b[49m\n\u001b[1;32m    443\u001b[0m   \u001b[38;5;28;01mreturn\u001b[39;00m \u001b[38;5;28mcls\u001b[39m\u001b[38;5;241m.\u001b[39mfrom_model(model)\n",
      "File \u001b[0;32m~/hellorobot/dm_control/dm_venv/lib/python3.12/site-packages/dm_control/mujoco/wrapper/core.py:294\u001b[0m, in \u001b[0;36mMjModel.from_xml_string\u001b[0;34m(cls, xml_string, assets)\u001b[0m\n\u001b[1;32m    280\u001b[0m \u001b[38;5;129m@classmethod\u001b[39m\n\u001b[1;32m    281\u001b[0m \u001b[38;5;28;01mdef\u001b[39;00m \u001b[38;5;21mfrom_xml_string\u001b[39m(\u001b[38;5;28mcls\u001b[39m, xml_string, assets\u001b[38;5;241m=\u001b[39m\u001b[38;5;28;01mNone\u001b[39;00m):\n\u001b[1;32m    282\u001b[0m \u001b[38;5;250m  \u001b[39m\u001b[38;5;124;03m\"\"\"Creates an `MjModel` instance from a model description XML string.\u001b[39;00m\n\u001b[1;32m    283\u001b[0m \n\u001b[1;32m    284\u001b[0m \u001b[38;5;124;03m  Args:\u001b[39;00m\n\u001b[0;32m   (...)\u001b[0m\n\u001b[1;32m    292\u001b[0m \u001b[38;5;124;03m    An `MjModel` instance.\u001b[39;00m\n\u001b[1;32m    293\u001b[0m \u001b[38;5;124;03m  \"\"\"\u001b[39;00m\n\u001b[0;32m--> 294\u001b[0m   model_ptr \u001b[38;5;241m=\u001b[39m \u001b[43m_get_model_ptr_from_xml\u001b[49m\u001b[43m(\u001b[49m\u001b[43mxml_string\u001b[49m\u001b[38;5;241;43m=\u001b[39;49m\u001b[43mxml_string\u001b[49m\u001b[43m,\u001b[49m\u001b[43m \u001b[49m\u001b[43massets\u001b[49m\u001b[38;5;241;43m=\u001b[39;49m\u001b[43massets\u001b[49m\u001b[43m)\u001b[49m\n\u001b[1;32m    295\u001b[0m   \u001b[38;5;28;01mreturn\u001b[39;00m \u001b[38;5;28mcls\u001b[39m(model_ptr)\n",
      "File \u001b[0;32m~/hellorobot/dm_control/dm_venv/lib/python3.12/site-packages/dm_control/mujoco/wrapper/core.py:179\u001b[0m, in \u001b[0;36m_get_model_ptr_from_xml\u001b[0;34m(xml_path, xml_string, assets)\u001b[0m\n\u001b[1;32m    175\u001b[0m   \u001b[38;5;28;01mraise\u001b[39;00m \u001b[38;5;167;01mTypeError\u001b[39;00m(\n\u001b[1;32m    176\u001b[0m       \u001b[38;5;124m\"\u001b[39m\u001b[38;5;124mOnly one of `xml_path` or `xml_string` may be specified.\u001b[39m\u001b[38;5;124m\"\u001b[39m)\n\u001b[1;32m    178\u001b[0m \u001b[38;5;28;01mif\u001b[39;00m xml_string \u001b[38;5;129;01mis\u001b[39;00m \u001b[38;5;129;01mnot\u001b[39;00m \u001b[38;5;28;01mNone\u001b[39;00m:\n\u001b[0;32m--> 179\u001b[0m   ptr \u001b[38;5;241m=\u001b[39m \u001b[43mmujoco\u001b[49m\u001b[38;5;241;43m.\u001b[39;49m\u001b[43mMjModel\u001b[49m\u001b[38;5;241;43m.\u001b[39;49m\u001b[43mfrom_xml_string\u001b[49m\u001b[43m(\u001b[49m\u001b[43mxml_string\u001b[49m\u001b[43m,\u001b[49m\u001b[43m \u001b[49m\u001b[43massets\u001b[49m\u001b[43m \u001b[49m\u001b[38;5;129;43;01mor\u001b[39;49;00m\u001b[43m \u001b[49m\u001b[43m{\u001b[49m\u001b[43m}\u001b[49m\u001b[43m)\u001b[49m\n\u001b[1;32m    180\u001b[0m \u001b[38;5;28;01melse\u001b[39;00m:\n\u001b[1;32m    181\u001b[0m   ptr \u001b[38;5;241m=\u001b[39m mujoco\u001b[38;5;241m.\u001b[39mMjModel\u001b[38;5;241m.\u001b[39mfrom_xml_path(xml_path, assets \u001b[38;5;129;01mor\u001b[39;00m {})\n",
      "\u001b[0;31mValueError\u001b[0m: XML Error: resource not found via provider or OS filesystem: 'stretch.xml'\nElement 'include', line 2\n"
     ]
    }
   ],
   "source": [
    "from dm_control import suite\n",
    "from dm_control import viewer\n",
    "import numpy as np\n",
    "\n",
    "env = suite.load(domain_name=\"stretch3\", task_name=\"test\")\n",
    "action_spec = env.action_spec()\n",
    "\n",
    "# Define a uniform random policy.\n",
    "def random_policy(time_step):\n",
    "  del time_step  # Unused.\n",
    "  return np.array(5, shape=action_spec.shape, dtype=np.float32)\n",
    "\n",
    "# Launch the viewer application.\n",
    "viewer.launch(env, policy=random_policy)"
   ]
  },
  {
   "cell_type": "code",
   "execution_count": null,
   "metadata": {},
   "outputs": [],
   "source": []
  }
 ],
 "metadata": {
  "kernelspec": {
   "display_name": "dm_venv",
   "language": "python",
   "name": "python3"
  },
  "language_info": {
   "codemirror_mode": {
    "name": "ipython",
    "version": 3
   },
   "file_extension": ".py",
   "mimetype": "text/x-python",
   "name": "python",
   "nbconvert_exporter": "python",
   "pygments_lexer": "ipython3",
   "version": "3.12.2"
  }
 },
 "nbformat": 4,
 "nbformat_minor": 2
}
